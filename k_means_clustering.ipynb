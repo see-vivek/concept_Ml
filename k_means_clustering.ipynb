{
  "nbformat": 4,
  "nbformat_minor": 0,
  "metadata": {
    "colab": {
      "private_outputs": true,
      "provenance": [],
      "mount_file_id": "1oquHr3Tq53fe2BB6BqcA9OdAUfSZTl1-",
      "authorship_tag": "ABX9TyOMHj04SVbfGCWpVzyhMrVM",
      "include_colab_link": true
    },
    "kernelspec": {
      "name": "python3",
      "display_name": "Python 3"
    },
    "language_info": {
      "name": "python"
    }
  },
  "cells": [
    {
      "cell_type": "markdown",
      "metadata": {
        "id": "view-in-github",
        "colab_type": "text"
      },
      "source": [
        "<a href=\"https://colab.research.google.com/github/see-vivek/concept_Ml/blob/main/k_means_clustering.ipynb\" target=\"_parent\"><img src=\"https://colab.research.google.com/assets/colab-badge.svg\" alt=\"Open In Colab\"/></a>"
      ]
    },
    {
      "cell_type": "code",
      "source": [
        "import pandas as pd\n",
        "import numpy as np"
      ],
      "metadata": {
        "id": "tQgtwJ72Nhya"
      },
      "execution_count": null,
      "outputs": []
    },
    {
      "cell_type": "code",
      "source": [
        "from google.colab import drive\n",
        "drive.mount('/content/drive')"
      ],
      "metadata": {
        "id": "Kwmmdd0JNmH5"
      },
      "execution_count": null,
      "outputs": []
    },
    {
      "cell_type": "code",
      "source": [
        "df=pd.read_csv('/content/drive/MyDrive/only dataset/student_clustering.csv')"
      ],
      "metadata": {
        "id": "7O8LuhcHN_dm"
      },
      "execution_count": null,
      "outputs": []
    },
    {
      "cell_type": "code",
      "source": [
        "\n",
        "df"
      ],
      "metadata": {
        "id": "LNG4jNUGOiBS"
      },
      "execution_count": null,
      "outputs": []
    },
    {
      "cell_type": "code",
      "source": [
        "import matplotlib.pyplot as plt\n"
      ],
      "metadata": {
        "id": "DIh1K5l-Oq_t"
      },
      "execution_count": null,
      "outputs": []
    },
    {
      "cell_type": "code",
      "source": [
        "plt.scatter(df['cgpa'],df['iq'])\n",
        "plt.show()"
      ],
      "metadata": {
        "id": "umni9v_mOzHi"
      },
      "execution_count": null,
      "outputs": []
    },
    {
      "cell_type": "code",
      "source": [
        "from sklearn.cluster import KMeans\n"
      ],
      "metadata": {
        "id": "U_a35Z72O5Kt"
      },
      "execution_count": null,
      "outputs": []
    },
    {
      "cell_type": "code",
      "source": [
        "wcss = []\n",
        "for i in range (1,11):\n",
        "  km= KMeans(n_clusters= i)\n",
        "  km.fit_predict(df)\n",
        "  wcss.append(km.inertia_)\n"
      ],
      "metadata": {
        "id": "x5TiS1EUPQpj"
      },
      "execution_count": null,
      "outputs": []
    },
    {
      "cell_type": "code",
      "source": [
        "wcss"
      ],
      "metadata": {
        "id": "4-sL9HHTUxW-"
      },
      "execution_count": null,
      "outputs": []
    },
    {
      "cell_type": "markdown",
      "source": [
        "elbow curve"
      ],
      "metadata": {
        "id": "7DzaEG12iHxW"
      }
    },
    {
      "cell_type": "code",
      "source": [
        "plt.plot(range(1,11),wcss)\n",
        "plt.show"
      ],
      "metadata": {
        "id": "R6MctAP8Uzx0"
      },
      "execution_count": null,
      "outputs": []
    },
    {
      "cell_type": "markdown",
      "source": [
        "here we get the value of k as 4 because the curve is flatening at 4, so number of clusters will be equal to 4"
      ],
      "metadata": {
        "id": "V3D35fQ8iYOs"
      }
    },
    {
      "cell_type": "code",
      "source": [
        "x= df.iloc[:,:].values\n",
        "km= KMeans(n_clusters=4)\n",
        "y_mean=km.fit_predict(x)"
      ],
      "metadata": {
        "id": "dI7FRCEIU5na"
      },
      "execution_count": null,
      "outputs": []
    },
    {
      "cell_type": "code",
      "source": [
        "y_mean"
      ],
      "metadata": {
        "id": "nxnlcE5VU8s_"
      },
      "execution_count": null,
      "outputs": []
    },
    {
      "cell_type": "code",
      "source": [
        "x[y_mean == 3,1]"
      ],
      "metadata": {
        "id": "6jT5L3cIU_e1"
      },
      "execution_count": null,
      "outputs": []
    },
    {
      "cell_type": "code",
      "source": [
        "plt.scatter(x[y_mean == 0,0],x[y_mean == 0,1],color='red')\n",
        "plt.scatter(x[y_mean == 1,0],x[y_mean == 1,1],color='green')\n",
        "plt.scatter(x[y_mean == 2,0],x[y_mean == 2,1],color='yellow')\n",
        "plt.scatter(x[y_mean == 3,0],x[y_mean == 3,1],color='orange')\n",
        "plt.xlabel('cgpa')\n",
        "plt.ylabel('iq')\n",
        "plt.show()"
      ],
      "metadata": {
        "id": "NYhSdgiOVCu2"
      },
      "execution_count": null,
      "outputs": []
    },
    {
      "cell_type": "markdown",
      "source": [
        "same peice of code works for higher dimension."
      ],
      "metadata": {
        "id": "GJPrtVH1mDcn"
      }
    }
  ]
}