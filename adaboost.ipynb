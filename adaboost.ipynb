{
  "nbformat": 4,
  "nbformat_minor": 0,
  "metadata": {
    "colab": {
      "private_outputs": true,
      "provenance": [],
      "mount_file_id": "1oquHr3Tq53fe2BB6BqcA9OdAUfSZTl1-",
      "authorship_tag": "ABX9TyMnf6K8MuatOvUmjQRCj27j",
      "include_colab_link": true
    },
    "kernelspec": {
      "name": "python3",
      "display_name": "Python 3"
    },
    "language_info": {
      "name": "python"
    }
  },
  "cells": [
    {
      "cell_type": "markdown",
      "metadata": {
        "id": "view-in-github",
        "colab_type": "text"
      },
      "source": [
        "<a href=\"https://colab.research.google.com/github/see-vivek/concept_Ml/blob/main/adaboost.ipynb\" target=\"_parent\"><img src=\"https://colab.research.google.com/assets/colab-badge.svg\" alt=\"Open In Colab\"/></a>"
      ]
    },
    {
      "cell_type": "code",
      "source": [
        "import pandas as pd\n",
        "import numpy as np\n",
        "from mlxtend.plotting import plot_decision_regions"
      ],
      "metadata": {
        "id": "tQgtwJ72Nhya"
      },
      "execution_count": null,
      "outputs": []
    },
    {
      "cell_type": "code",
      "source": [
        "\n",
        "df = pd.DataFrame()"
      ],
      "metadata": {
        "id": "Kwmmdd0JNmH5"
      },
      "execution_count": null,
      "outputs": []
    },
    {
      "cell_type": "code",
      "source": [
        "df['X1'] = [1,2,3,4,5,6,6,7,9,9]\n",
        "df['X2'] = [5,3,6,8,1,9,5,8,9,2]\n",
        "df['label'] = [1,1,0,1,0,1,0,1,0,0]"
      ],
      "metadata": {
        "id": "7O8LuhcHN_dm"
      },
      "execution_count": null,
      "outputs": []
    },
    {
      "cell_type": "code",
      "source": [
        "\n",
        "df"
      ],
      "metadata": {
        "id": "LNG4jNUGOiBS"
      },
      "execution_count": null,
      "outputs": []
    },
    {
      "cell_type": "code",
      "source": [
        "import seaborn as sns\n",
        "sns.scatterplot(x=df['X1'],y=df['X2'],hue=df['label'])"
      ],
      "metadata": {
        "id": "DIh1K5l-Oq_t"
      },
      "execution_count": null,
      "outputs": []
    },
    {
      "cell_type": "code",
      "source": [
        "df['weights'] = 1/df.shape[0]"
      ],
      "metadata": {
        "id": "umni9v_mOzHi"
      },
      "execution_count": null,
      "outputs": []
    },
    {
      "cell_type": "code",
      "source": [
        "df"
      ],
      "metadata": {
        "id": "U_a35Z72O5Kt"
      },
      "execution_count": null,
      "outputs": []
    },
    {
      "cell_type": "code",
      "source": [
        "from sklearn.tree import DecisionTreeClassifier"
      ],
      "metadata": {
        "id": "x5TiS1EUPQpj"
      },
      "execution_count": null,
      "outputs": []
    },
    {
      "cell_type": "code",
      "source": [
        "\n",
        "dt1 = DecisionTreeClassifier(max_depth=1)"
      ],
      "metadata": {
        "id": "4-sL9HHTUxW-"
      },
      "execution_count": null,
      "outputs": []
    },
    {
      "cell_type": "code",
      "source": [
        "\n",
        "X = df.iloc[:,0:2].values\n",
        "y = df.iloc[:,2].values"
      ],
      "metadata": {
        "id": "R6MctAP8Uzx0"
      },
      "execution_count": null,
      "outputs": []
    },
    {
      "cell_type": "code",
      "source": [
        "# Step 2 - Train 1st model\n",
        "dt1.fit(X,y)"
      ],
      "metadata": {
        "id": "3jwg_tcIU2Zh"
      },
      "execution_count": null,
      "outputs": []
    },
    {
      "cell_type": "code",
      "source": [
        "\n",
        "from sklearn.tree import plot_tree\n",
        "plot_tree(dt1)"
      ],
      "metadata": {
        "id": "dI7FRCEIU5na"
      },
      "execution_count": null,
      "outputs": []
    },
    {
      "cell_type": "code",
      "source": [
        "\n",
        "plot_decision_regions(X, y, clf=dt1, legend=2)"
      ],
      "metadata": {
        "id": "nxnlcE5VU8s_"
      },
      "execution_count": null,
      "outputs": []
    },
    {
      "cell_type": "code",
      "source": [
        "df['y_pred'] = dt1.predict(X)\n",
        "\n",
        "\n",
        "df"
      ],
      "metadata": {
        "id": "6jT5L3cIU_e1"
      },
      "execution_count": null,
      "outputs": []
    },
    {
      "cell_type": "code",
      "source": [
        "\n",
        "def calculate_model_weight(error):\n",
        "\n",
        "  return 0.5*np.log((1-error)/(error))"
      ],
      "metadata": {
        "id": "NYhSdgiOVCu2"
      },
      "execution_count": null,
      "outputs": []
    },
    {
      "cell_type": "code",
      "source": [
        "\n",
        "# Step 3 - calculate model weight\n",
        "alpha1 = calculate_model_weight(0.3)\n",
        "alpha1"
      ],
      "metadata": {
        "id": "80rin-HtVGXo"
      },
      "execution_count": null,
      "outputs": []
    },
    {
      "cell_type": "code",
      "source": [
        "\n",
        "# Step 4 - Update weights\n",
        "def update_row_weights(row,alpha=0.423):\n",
        "  if row['label'] == row['y_pred']:\n",
        "    return row['weights'] * np.exp(-alpha)\n",
        "  else:\n",
        "    return row['weights'] * np.exp(alpha)"
      ],
      "metadata": {
        "id": "xBomJmlRVI0s"
      },
      "execution_count": null,
      "outputs": []
    },
    {
      "cell_type": "code",
      "source": [
        "\n",
        "df['updated_weights'] = df.apply(update_row_weights,axis=1)"
      ],
      "metadata": {
        "id": "plzfafDNVLxB"
      },
      "execution_count": null,
      "outputs": []
    },
    {
      "cell_type": "code",
      "source": [
        "df"
      ],
      "metadata": {
        "id": "AwCi9yKiVOWW"
      },
      "execution_count": null,
      "outputs": []
    },
    {
      "cell_type": "code",
      "source": [
        "\n",
        "df['updated_weights'].sum()"
      ],
      "metadata": {
        "id": "hCTqgI5fVRFF"
      },
      "execution_count": null,
      "outputs": []
    },
    {
      "cell_type": "code",
      "source": [
        "\n",
        "df['nomalized_weights'] = df['updated_weights']/df['updated_weights'].sum()"
      ],
      "metadata": {
        "id": "SkmO76yxVUqf"
      },
      "execution_count": null,
      "outputs": []
    },
    {
      "cell_type": "code",
      "source": [
        "\n",
        "df"
      ],
      "metadata": {
        "id": "lyLiO9OAVXgR"
      },
      "execution_count": null,
      "outputs": []
    },
    {
      "cell_type": "code",
      "source": [
        "\n",
        "df['nomalized_weights'].sum()"
      ],
      "metadata": {
        "id": "Adq7EbMuVZsZ"
      },
      "execution_count": null,
      "outputs": []
    },
    {
      "cell_type": "code",
      "source": [
        "\n",
        "df['cumsum_upper'] = np.cumsum(df['nomalized_weights'])\n",
        "\n",
        "\n",
        "df['cumsum_lower'] = df['cumsum_upper'] - df['nomalized_weights']\n",
        "\n",
        "\n",
        "df[['X1','X2','label','weights','y_pred','updated_weights','cumsum_lower','cumsum_upper']]"
      ],
      "metadata": {
        "id": "49gJON2SVczj"
      },
      "execution_count": null,
      "outputs": []
    },
    {
      "cell_type": "code",
      "source": [
        "\n",
        "def create_new_dataset(df):\n",
        "\n",
        "  indices = []\n",
        "\n",
        "  for i in range(df.shape[0]):\n",
        "    a = np.random.random()\n",
        "    for index,row in df.iterrows():\n",
        "      if row['cumsum_upper'] > a and a > row['cumsum_lower']:\n",
        "        indices.append(index)\n",
        "  return indices"
      ],
      "metadata": {
        "id": "uz9mMkgqVfkT"
      },
      "execution_count": null,
      "outputs": []
    },
    {
      "cell_type": "code",
      "source": [
        "\n",
        "index_values = create_new_dataset(df)\n",
        "\n",
        "index_values"
      ],
      "metadata": {
        "id": "N_FC6GMjVi4i"
      },
      "execution_count": null,
      "outputs": []
    },
    {
      "cell_type": "code",
      "source": [
        "\n",
        "second_df = df.iloc[index_values,[0,1,2,3]]\n",
        "\n",
        "\n",
        "second_df"
      ],
      "metadata": {
        "id": "-TXz-KuBVlcY"
      },
      "execution_count": null,
      "outputs": []
    },
    {
      "cell_type": "code",
      "source": [
        "\n",
        "dt2 = DecisionTreeClassifier(max_depth=1)\n",
        "\n",
        "\n",
        "X = second_df.iloc[:,0:2].values\n",
        "y = second_df.iloc[:,2].values"
      ],
      "metadata": {
        "id": "1dRMsOWtVoWP"
      },
      "execution_count": null,
      "outputs": []
    },
    {
      "cell_type": "code",
      "source": [
        "dt2.fit(X,y)"
      ],
      "metadata": {
        "id": "OMdBfIqkVuUH"
      },
      "execution_count": null,
      "outputs": []
    },
    {
      "cell_type": "code",
      "source": [
        "plot_tree(dt2)"
      ],
      "metadata": {
        "id": "N5XSKoOOVw4R"
      },
      "execution_count": null,
      "outputs": []
    },
    {
      "cell_type": "code",
      "source": [
        "plot_decision_regions(X, y, clf=dt2, legend=2)"
      ],
      "metadata": {
        "id": "pyBbrxGnVzvT"
      },
      "execution_count": null,
      "outputs": []
    },
    {
      "cell_type": "code",
      "source": [
        "\n",
        "second_df['y_pred'] = dt2.predict(X)\n",
        "\n",
        "\n",
        "second_df"
      ],
      "metadata": {
        "id": "A2H5QyAxV2_W"
      },
      "execution_count": null,
      "outputs": []
    },
    {
      "cell_type": "code",
      "source": [
        "\n",
        "X1\tX2\tlabel\tweights\ty_pred\n",
        "\n",
        "\n",
        "alpha2 = calculate_model_weight(0.1)"
      ],
      "metadata": {
        "id": "olmVh0ptV53N"
      },
      "execution_count": null,
      "outputs": []
    },
    {
      "cell_type": "code",
      "source": [
        "\n",
        "alpha2"
      ],
      "metadata": {
        "id": "0KxKYZp8V_JG"
      },
      "execution_count": null,
      "outputs": []
    },
    {
      "cell_type": "code",
      "source": [
        "\n",
        "# Step 4 - Update weights\n",
        "def update_row_weights(row,alpha=1.09):\n",
        "  if row['label'] == row['y_pred']:\n",
        "    return row['weights'] * np.exp(-alpha)\n",
        "  else:\n",
        "    return row['weights'] * np.exp(alpha)\n",
        "\n",
        "\n",
        "second_df['updated_weights'] = second_df.apply(update_row_weights,axis=1)\n",
        "\n",
        "\n",
        "second_df"
      ],
      "metadata": {
        "id": "4j0IBj9UWDci"
      },
      "execution_count": null,
      "outputs": []
    },
    {
      "cell_type": "code",
      "source": [
        "\n",
        "second_df['nomalized_weights'] = second_df['updated_weights']/second_df['updated_weights'].sum()\n",
        "\n",
        "\n",
        "second_df"
      ],
      "metadata": {
        "id": "g57H0DuKWKt-"
      },
      "execution_count": null,
      "outputs": []
    },
    {
      "cell_type": "code",
      "source": [
        "second_df['nomalized_weights'].sum()"
      ],
      "metadata": {
        "id": "14kY56MPWN1F"
      },
      "execution_count": null,
      "outputs": []
    },
    {
      "cell_type": "code",
      "source": [
        "second_df['cumsum_upper'] = np.cumsum(second_df['nomalized_weights'])\n",
        "\n",
        "\n",
        "second_df['cumsum_lower'] = second_df['cumsum_upper'] - second_df['nomalized_weights']\n",
        "\n",
        "\n",
        "second_df[['X1','X2','label','weights','y_pred','nomalized_weights','cumsum_lower','cumsum_upper']]"
      ],
      "metadata": {
        "id": "W727HvGrWRGZ"
      },
      "execution_count": null,
      "outputs": []
    },
    {
      "cell_type": "code",
      "source": [
        "index_values = create_new_dataset(second_df)\n",
        "\n",
        "\n",
        "third_df = second_df.iloc[index_values,[0,1,2,3]]\n",
        "\n",
        "\n",
        "third_df"
      ],
      "metadata": {
        "id": "ZULF1PziWUDQ"
      },
      "execution_count": null,
      "outputs": []
    },
    {
      "cell_type": "code",
      "source": [
        "dt3 = DecisionTreeClassifier(max_depth=1)\n",
        "\n",
        "X = second_df.iloc[:,0:2].values\n",
        "y = second_df.iloc[:,2].values\n",
        "\n",
        "dt3.fit(X,y)"
      ],
      "metadata": {
        "id": "1Z7SFbfDWWvg"
      },
      "execution_count": null,
      "outputs": []
    },
    {
      "cell_type": "code",
      "source": [
        "plot_decision_regions(X, y, clf=dt3, legend=2)"
      ],
      "metadata": {
        "id": "o0no-nAPWaBz"
      },
      "execution_count": null,
      "outputs": []
    },
    {
      "cell_type": "code",
      "source": [
        "third_df['y_pred'] = dt3.predict(X)\n",
        "\n",
        "\n",
        "third_df"
      ],
      "metadata": {
        "id": "ZVcIuNtkWc1A"
      },
      "execution_count": null,
      "outputs": []
    },
    {
      "cell_type": "code",
      "source": [
        "alpha3 = calculate_model_weight(0.7)\n",
        "alpha3"
      ],
      "metadata": {
        "id": "OFncSM7bWf8D"
      },
      "execution_count": null,
      "outputs": []
    },
    {
      "cell_type": "code",
      "source": [
        "print(alpha1,alpha2,alpha3)"
      ],
      "metadata": {
        "id": "2gAnuqH7Wi67"
      },
      "execution_count": null,
      "outputs": []
    },
    {
      "cell_type": "markdown",
      "source": [
        "prediction"
      ],
      "metadata": {
        "id": "tzqDPrqkWo9v"
      }
    },
    {
      "cell_type": "code",
      "source": [
        "query = np.array([1,5]).reshape(1,2)\n",
        "dt1.predict(query)"
      ],
      "metadata": {
        "id": "2zZK8DOHWldC"
      },
      "execution_count": null,
      "outputs": []
    },
    {
      "cell_type": "code",
      "source": [
        "dt2.predict(query)"
      ],
      "metadata": {
        "id": "SFYcnpR9Wq95"
      },
      "execution_count": null,
      "outputs": []
    },
    {
      "cell_type": "code",
      "source": [
        "dt3.predict(query)"
      ],
      "metadata": {
        "id": "R3RxHlUuWuK2"
      },
      "execution_count": null,
      "outputs": []
    },
    {
      "cell_type": "code",
      "source": [
        "alpha1*1 + alpha2*(1) + alpha3*(1)"
      ],
      "metadata": {
        "id": "5LpMsm20WwOo"
      },
      "execution_count": null,
      "outputs": []
    },
    {
      "cell_type": "code",
      "source": [
        "\n",
        "np.sign(1.09)"
      ],
      "metadata": {
        "id": "mELEW86LWy13"
      },
      "execution_count": null,
      "outputs": []
    },
    {
      "cell_type": "code",
      "source": [
        "query = np.array([9,9]).reshape(1,2)\n",
        "dt1.predict(query)"
      ],
      "metadata": {
        "id": "4Jpb_PXNW1Lu"
      },
      "execution_count": null,
      "outputs": []
    },
    {
      "cell_type": "code",
      "source": [
        "dt2.predict(query)"
      ],
      "metadata": {
        "id": "A8hrZ8rVW3Wl"
      },
      "execution_count": null,
      "outputs": []
    },
    {
      "cell_type": "code",
      "source": [
        "dt3.predict(query)"
      ],
      "metadata": {
        "id": "rdPGtILdW5rW"
      },
      "execution_count": null,
      "outputs": []
    },
    {
      "cell_type": "code",
      "source": [
        "\n",
        "alpha1*(1) + alpha2*(-1) + alpha3*(-1)"
      ],
      "metadata": {
        "id": "22izaEAHW7x1"
      },
      "execution_count": null,
      "outputs": []
    },
    {
      "cell_type": "code",
      "source": [
        "\n",
        "np.sign(-0.25)"
      ],
      "metadata": {
        "id": "XYIG0I4LW-YC"
      },
      "execution_count": null,
      "outputs": []
    }
  ]
}