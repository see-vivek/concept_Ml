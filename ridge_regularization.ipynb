{
  "nbformat": 4,
  "nbformat_minor": 0,
  "metadata": {
    "colab": {
      "private_outputs": true,
      "provenance": [],
      "mount_file_id": "1oquHr3Tq53fe2BB6BqcA9OdAUfSZTl1-",
      "authorship_tag": "ABX9TyM0PnD3NmrkGuTuJqnZteFL",
      "include_colab_link": true
    },
    "kernelspec": {
      "name": "python3",
      "display_name": "Python 3"
    },
    "language_info": {
      "name": "python"
    }
  },
  "cells": [
    {
      "cell_type": "markdown",
      "metadata": {
        "id": "view-in-github",
        "colab_type": "text"
      },
      "source": [
        "<a href=\"https://colab.research.google.com/github/see-vivek/concept_Ml/blob/main/ridge_regularization.ipynb\" target=\"_parent\"><img src=\"https://colab.research.google.com/assets/colab-badge.svg\" alt=\"Open In Colab\"/></a>"
      ]
    },
    {
      "cell_type": "code",
      "source": [
        "import numpy as np\n",
        "import pandas as pd\n",
        "import matplotlib.pyplot as plt\n"
      ],
      "metadata": {
        "id": "mwaiQrYfeYKV"
      },
      "execution_count": null,
      "outputs": []
    },
    {
      "cell_type": "code",
      "source": [
        "from sklearn.datasets import load_diabetes\n",
        "\n",
        "data=load_diabetes()"
      ],
      "metadata": {
        "id": "hKn99Kzpe59c"
      },
      "execution_count": null,
      "outputs": []
    },
    {
      "cell_type": "code",
      "source": [
        "print(data.DESCR)"
      ],
      "metadata": {
        "id": "Z7VAJQtFfyYd"
      },
      "execution_count": null,
      "outputs": []
    },
    {
      "cell_type": "code",
      "source": [
        "X=data.data\n",
        "y=data.target"
      ],
      "metadata": {
        "id": "frPqtpR1W8-Z"
      },
      "execution_count": null,
      "outputs": []
    },
    {
      "cell_type": "code",
      "source": [
        "from sklearn.model_selection import train_test_split\n",
        "X_train,X_test,y_train,y_test=train_test_split(X,y,test_size=0.2,random_state=45)"
      ],
      "metadata": {
        "id": "4DNdAakkf8do"
      },
      "execution_count": null,
      "outputs": []
    },
    {
      "cell_type": "code",
      "source": [
        "from sklearn.linear_model import LinearRegression\n",
        "L=LinearRegression()"
      ],
      "metadata": {
        "id": "KOIRXGq3Xqoo"
      },
      "execution_count": null,
      "outputs": []
    },
    {
      "cell_type": "code",
      "source": [
        "L.fit(X_train,y_train)"
      ],
      "metadata": {
        "id": "DUNMvEvcdowt"
      },
      "execution_count": null,
      "outputs": []
    },
    {
      "cell_type": "code",
      "source": [
        "print(L.coef_)\n",
        "print(L.intercept_)"
      ],
      "metadata": {
        "id": "6MNom9OTg4Jv"
      },
      "execution_count": null,
      "outputs": []
    },
    {
      "cell_type": "code",
      "source": [
        "y_pred=L.predict(X_test)"
      ],
      "metadata": {
        "id": "ztcHkSylXTRy"
      },
      "execution_count": null,
      "outputs": []
    },
    {
      "cell_type": "code",
      "source": [
        "from sklearn.metrics import r2_score,mean_squared_error\n",
        "\n",
        "print(\"R2 score\",r2_score(y_test,y_pred))\n",
        "print(\"RMSE\",np.sqrt(mean_squared_error(y_test,y_pred)))"
      ],
      "metadata": {
        "id": "qFbMuhqmhczQ"
      },
      "execution_count": null,
      "outputs": []
    },
    {
      "cell_type": "code",
      "source": [
        "from sklearn.linear_model import Ridge\n",
        "R=Ridge(alpha=100000)"
      ],
      "metadata": {
        "id": "zhiXQluKUogW"
      },
      "execution_count": null,
      "outputs": []
    },
    {
      "cell_type": "code",
      "source": [
        "R.fit(X_train,y_train)\n",
        "Ridge(alpha=100000)\n",
        "print(R.coef_)\n",
        "print(R.intercept_)"
      ],
      "metadata": {
        "id": "I4p6bhWyYHkW"
      },
      "execution_count": null,
      "outputs": []
    },
    {
      "cell_type": "code",
      "source": [
        "y_pred1=R.predict(X_test)\n",
        "print(\"R2 score\",r2_score(y_test,y_pred1))\n",
        "print(\"RMSE\",np.sqrt(mean_squared_error(y_test,y_pred1)))"
      ],
      "metadata": {
        "id": "WANtlQv5Xmsy"
      },
      "execution_count": null,
      "outputs": []
    },
    {
      "cell_type": "code",
      "source": [
        "m = 100\n",
        "x1 = 5 * np.random.rand(m, 1) - 2\n",
        "x2 = 0.7 * x1 ** 2 - 2 * x1 + 3 + np.random.randn(m, 1)\n",
        "\n",
        "plt.scatter(x1, x2)\n",
        "plt.show()"
      ],
      "metadata": {
        "id": "k_ra_AqPXq1f"
      },
      "execution_count": null,
      "outputs": []
    },
    {
      "cell_type": "code",
      "source": [
        "from sklearn.pipeline import Pipeline\n",
        "from sklearn.preprocessing import PolynomialFeatures\n",
        "\n",
        "def get_preds_ridge(x1, x2, alpha):\n",
        "    model = Pipeline([\n",
        "        ('poly_feats', PolynomialFeatures(degree=16)),\n",
        "        ('ridge', Ridge(alpha=alpha))\n",
        "    ])\n",
        "    model.fit(x1, x2)\n",
        "    return model.predict(x1)\n",
        "\n",
        "alphas = [0, 20, 200]\n",
        "cs = ['r', 'g', 'b']\n",
        "\n",
        "plt.figure(figsize=(10, 6))\n",
        "plt.plot(x1, x2, 'b+', label='Datapoints')\n",
        "\n",
        "for alpha, c in zip(alphas, cs):\n",
        "    preds = get_preds_ridge(x1, x2, alpha)\n",
        "    # Plot\n",
        "    plt.plot(sorted(x1[:, 0]), preds[np.argsort(x1[:, 0])], c, label='Alpha: {}'.format(alpha))\n",
        "\n",
        "plt.legend()\n",
        "plt.show()"
      ],
      "metadata": {
        "id": "lB25vyrTcARY"
      },
      "execution_count": null,
      "outputs": []
    }
  ]
}