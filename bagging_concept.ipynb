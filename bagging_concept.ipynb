{
  "nbformat": 4,
  "nbformat_minor": 0,
  "metadata": {
    "colab": {
      "private_outputs": true,
      "provenance": [],
      "mount_file_id": "1oquHr3Tq53fe2BB6BqcA9OdAUfSZTl1-",
      "authorship_tag": "ABX9TyMqo1i8l3KswT1UaqWSyFJZ",
      "include_colab_link": true
    },
    "kernelspec": {
      "name": "python3",
      "display_name": "Python 3"
    },
    "language_info": {
      "name": "python"
    }
  },
  "cells": [
    {
      "cell_type": "markdown",
      "metadata": {
        "id": "view-in-github",
        "colab_type": "text"
      },
      "source": [
        "<a href=\"https://colab.research.google.com/github/see-vivek/concept_Ml/blob/main/bagging_concept.ipynb\" target=\"_parent\"><img src=\"https://colab.research.google.com/assets/colab-badge.svg\" alt=\"Open In Colab\"/></a>"
      ]
    },
    {
      "cell_type": "code",
      "source": [
        "import numpy as np\n",
        "import pandas as pd"
      ],
      "metadata": {
        "id": "tQgtwJ72Nhya"
      },
      "execution_count": null,
      "outputs": []
    },
    {
      "cell_type": "code",
      "source": [
        "from google.colab import drive\n",
        "drive.mount('/content/drive')"
      ],
      "metadata": {
        "id": "Kwmmdd0JNmH5"
      },
      "execution_count": null,
      "outputs": []
    },
    {
      "cell_type": "code",
      "source": [
        "df= pd.read_csv('/content/drive/MyDrive/only dataset/Iris.csv')"
      ],
      "metadata": {
        "id": "7O8LuhcHN_dm"
      },
      "execution_count": null,
      "outputs": []
    },
    {
      "cell_type": "code",
      "source": [
        "df"
      ],
      "metadata": {
        "id": "LNG4jNUGOiBS"
      },
      "execution_count": null,
      "outputs": []
    },
    {
      "cell_type": "code",
      "source": [
        "df=df.iloc[:,1:]"
      ],
      "metadata": {
        "id": "DIh1K5l-Oq_t"
      },
      "execution_count": null,
      "outputs": []
    },
    {
      "cell_type": "code",
      "source": [
        "df"
      ],
      "metadata": {
        "id": "umni9v_mOzHi"
      },
      "execution_count": null,
      "outputs": []
    },
    {
      "cell_type": "code",
      "source": [
        "from sklearn.preprocessing import LabelEncoder"
      ],
      "metadata": {
        "id": "U_a35Z72O5Kt"
      },
      "execution_count": null,
      "outputs": []
    },
    {
      "cell_type": "code",
      "source": [
        "encoder= LabelEncoder()"
      ],
      "metadata": {
        "id": "x5TiS1EUPQpj"
      },
      "execution_count": null,
      "outputs": []
    },
    {
      "cell_type": "code",
      "source": [
        "df['Species']=encoder.fit_transform(df['Species'])"
      ],
      "metadata": {
        "id": "mxhdkjmpPVoW"
      },
      "execution_count": null,
      "outputs": []
    },
    {
      "cell_type": "code",
      "source": [
        "df.head()"
      ],
      "metadata": {
        "id": "P7dIYfccPqcs"
      },
      "execution_count": null,
      "outputs": []
    },
    {
      "cell_type": "code",
      "source": [
        "df=df[df['Species']!=0][['SepalWidthCm','PetalLengthCm','Species']]"
      ],
      "metadata": {
        "id": "9YAfoumvPxiN"
      },
      "execution_count": null,
      "outputs": []
    },
    {
      "cell_type": "code",
      "source": [
        "df"
      ],
      "metadata": {
        "id": "AYuuJ0FLQUje"
      },
      "execution_count": null,
      "outputs": []
    },
    {
      "cell_type": "code",
      "source": [
        "import  seaborn as sns\n",
        "import matplotlib.pyplot as plt\n"
      ],
      "metadata": {
        "id": "pfqKpEuVQXuM"
      },
      "execution_count": null,
      "outputs": []
    },
    {
      "cell_type": "code",
      "source": [
        "plt.scatter(df['SepalWidthCm'],df['PetalLengthCm'],c= df['Species'])"
      ],
      "metadata": {
        "id": "hpk7Ooz7Qm9R"
      },
      "execution_count": null,
      "outputs": []
    },
    {
      "cell_type": "code",
      "source": [
        "#taking only 10 rows for traning\n",
        "df=df.sample(100)## dataset divided into random order\n",
        "df_train= df.iloc[:,60:].sample(10)\n",
        "df_val=df.iloc[60:80,:].sample(5)\n",
        "df_test=df.iloc[80:,:].sample(5)"
      ],
      "metadata": {
        "id": "42co5KysRqx9"
      },
      "execution_count": null,
      "outputs": []
    },
    {
      "cell_type": "code",
      "source": [
        "df_train"
      ],
      "metadata": {
        "id": "OjCWysr9STw5"
      },
      "execution_count": null,
      "outputs": []
    },
    {
      "cell_type": "code",
      "source": [
        "df_val"
      ],
      "metadata": {
        "id": "ZVR7eQHISWtc"
      },
      "execution_count": null,
      "outputs": []
    },
    {
      "cell_type": "code",
      "source": [
        "df_test"
      ],
      "metadata": {
        "id": "U1YcPz6sTCrc"
      },
      "execution_count": null,
      "outputs": []
    },
    {
      "cell_type": "code",
      "source": [
        "x_test= df_val.iloc[:,:2].values\n",
        "y_test= df_val.iloc[:,:-1].values\n"
      ],
      "metadata": {
        "id": "G9wLhMX7TFLS"
      },
      "execution_count": null,
      "outputs": []
    },
    {
      "cell_type": "code",
      "source": [
        "x_test"
      ],
      "metadata": {
        "id": "gSzP10niThL5"
      },
      "execution_count": null,
      "outputs": []
    },
    {
      "cell_type": "code",
      "source": [
        "y_test"
      ],
      "metadata": {
        "id": "_s3VDw1hTl1n"
      },
      "execution_count": null,
      "outputs": []
    },
    {
      "cell_type": "markdown",
      "source": [
        "###BAGGING####"
      ],
      "metadata": {
        "id": "daGeuDiUToPU"
      }
    },
    {
      "cell_type": "code",
      "source": [
        "df_bag= df_train.sample(8,replace=True)###replace =true means replacment in sample is taking place"
      ],
      "metadata": {
        "id": "7oNBr0iLTrXe"
      },
      "execution_count": null,
      "outputs": []
    },
    {
      "cell_type": "code",
      "source": [
        "x= df_bag.iloc[:,0:2]\n",
        "y=df_bag.iloc[:,-1:]"
      ],
      "metadata": {
        "id": "nX8fFgJMT-Xo"
      },
      "execution_count": null,
      "outputs": []
    },
    {
      "cell_type": "code",
      "source": [
        "df_bag"
      ],
      "metadata": {
        "id": "KKa9_1pWURFU"
      },
      "execution_count": null,
      "outputs": []
    },
    {
      "cell_type": "code",
      "source": [
        "from sklearn.tree import DecisionTreeClassifier\n",
        "from sklearn.tree import plot_tree\n",
        "from mlxtend.plotting import plot_decision_regions\n",
        "from sklearn.metrics import accuracy_score\n"
      ],
      "metadata": {
        "id": "wLTwcMi1UiWU"
      },
      "execution_count": null,
      "outputs": []
    },
    {
      "cell_type": "code",
      "source": [
        "dt_bag1= DecisionTreeClassifier()"
      ],
      "metadata": {
        "id": "4haHzZKlVIiu"
      },
      "execution_count": null,
      "outputs": []
    },
    {
      "cell_type": "code",
      "source": [
        "evaluate(dt_bag1,x,y)"
      ],
      "metadata": {
        "id": "bkiGhkGMcQ17"
      },
      "execution_count": null,
      "outputs": []
    },
    {
      "cell_type": "code",
      "source": [
        "# Data for Tree 1\n",
        "df_bag = df_train.sample(8,replace=True)\n",
        "\n",
        "# Fetch X and y\n",
        "X = df_bag.iloc[:,0:2]\n",
        "y = df_bag.iloc[:,-1]\n",
        "\n",
        "# print df_bag\n",
        "df_bag"
      ],
      "metadata": {
        "id": "KtBoL9ibd75-"
      },
      "execution_count": null,
      "outputs": []
    },
    {
      "cell_type": "code",
      "source": [
        "dt_bag2 = DecisionTreeClassifier()\n",
        "evaluate(dt_bag2,x,y)"
      ],
      "metadata": {
        "id": "TSxizy62d_oX"
      },
      "execution_count": null,
      "outputs": []
    },
    {
      "cell_type": "code",
      "source": [
        "# Data for Tree 1\n",
        "df_bag = df_train.sample(8,replace=True)\n",
        "\n",
        "# Fetch X and y\n",
        "X = df_bag.iloc[:,0:2]\n",
        "y = df_bag.iloc[:,-1]\n",
        "\n",
        "# print df_bag\n",
        "df_bag"
      ],
      "metadata": {
        "id": "j2rq9GQXeEO6"
      },
      "execution_count": null,
      "outputs": []
    },
    {
      "cell_type": "code",
      "source": [
        "dt_bag3 = DecisionTreeClassifier()\n",
        "evaluate(dt_bag3,x,y)"
      ],
      "metadata": {
        "id": "gGmRccJBeH31"
      },
      "execution_count": null,
      "outputs": []
    },
    {
      "cell_type": "code",
      "source": [
        "def evaluate(clf,x,y):\n",
        "    clf.fit(x,y)\n",
        "    plot_tree(clf)\n",
        "    plt.show()\n",
        "    plot_decision_regions(x.values, y.values, clf=clf, legend=2)\n",
        "    y_pred = clf.predict(x_test)\n",
        "    print(accuracy_score(y_test,y_pred))"
      ],
      "metadata": {
        "id": "nYWdDqyreK7t"
      },
      "execution_count": null,
      "outputs": []
    },
    {
      "cell_type": "code",
      "source": [
        "df_test"
      ],
      "metadata": {
        "id": "Om-JczM6efwt"
      },
      "execution_count": null,
      "outputs": []
    },
    {
      "cell_type": "markdown",
      "source": [
        "prediction here 2 comes 2 times so 2 will be considered as answer"
      ],
      "metadata": {
        "id": "xVh_Qu7meyG1"
      }
    },
    {
      "cell_type": "code",
      "source": [
        "print(\"Predictor 1\",dt_bag1.predict(np.array([2.2,5.0]).reshape(1,2)))\n",
        "print(\"Predictor 2\",dt_bag2.predict(np.array([2.2,5.0]).reshape(1,2)))\n",
        "print(\"Predictor 3\",dt_bag3.predict(np.array([2.2,5.0]).reshape(1,2)))"
      ],
      "metadata": {
        "id": "kvedWUmfejui"
      },
      "execution_count": null,
      "outputs": []
    }
  ]
}