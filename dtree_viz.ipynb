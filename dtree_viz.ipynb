{
  "nbformat": 4,
  "nbformat_minor": 0,
  "metadata": {
    "colab": {
      "private_outputs": true,
      "provenance": [],
      "mount_file_id": "1oquHr3Tq53fe2BB6BqcA9OdAUfSZTl1-",
      "authorship_tag": "ABX9TyM9NtAAGjTB3vxvcETeQe/s",
      "include_colab_link": true
    },
    "kernelspec": {
      "name": "python3",
      "display_name": "Python 3"
    },
    "language_info": {
      "name": "python"
    }
  },
  "cells": [
    {
      "cell_type": "markdown",
      "metadata": {
        "id": "view-in-github",
        "colab_type": "text"
      },
      "source": [
        "<a href=\"https://colab.research.google.com/github/see-vivek/concept_Ml/blob/main/dtree_viz.ipynb\" target=\"_parent\"><img src=\"https://colab.research.google.com/assets/colab-badge.svg\" alt=\"Open In Colab\"/></a>"
      ]
    },
    {
      "cell_type": "code",
      "source": [
        "\n",
        "!pip install dtreeviz"
      ],
      "metadata": {
        "id": "hlVz7WS8dQ91"
      },
      "execution_count": null,
      "outputs": []
    },
    {
      "cell_type": "code",
      "source": [
        "\n",
        "\n",
        "\n",
        "from sklearn.datasets import *\n",
        "from dtreeviz.trees import *\n",
        "from IPython.display import Image, display_svg, SVG"
      ],
      "metadata": {
        "id": "INjYGfBrdU7P"
      },
      "execution_count": null,
      "outputs": []
    },
    {
      "cell_type": "code",
      "source": [
        "import graphviz.backend as be"
      ],
      "metadata": {
        "id": "VAFPvCgmekEb"
      },
      "execution_count": null,
      "outputs": []
    },
    {
      "cell_type": "code",
      "source": [
        "viz= dtreeviz()"
      ],
      "metadata": {
        "id": "GF9AfpHSeIDj"
      },
      "execution_count": null,
      "outputs": []
    },
    {
      "cell_type": "code",
      "source": [
        "clas = tree.DecisionTreeClassifier()\n",
        "iris = load_iris()\n",
        "\n",
        "X_train = iris.data\n",
        "y_train = iris.target\n",
        "clas.fit(X_train, y_train)"
      ],
      "metadata": {
        "id": "6aUe3_qadYUW"
      },
      "execution_count": null,
      "outputs": []
    },
    {
      "cell_type": "code",
      "source": [
        "\n",
        "from sklearn.tree import plot_tree\n",
        "plot_tree(clas)"
      ],
      "metadata": {
        "id": "qe-uUIgkdwB_"
      },
      "execution_count": null,
      "outputs": []
    },
    {
      "cell_type": "code",
      "source": [
        "viz = dtreeviz(clas,\n",
        "               X_train,\n",
        "               y_train,\n",
        "               feature_names=iris.feature_names,\n",
        "               class_names=[\"setosa\", \"versicolor\", \"virginica\"])\n",
        "viz"
      ],
      "metadata": {
        "id": "cQ43f0_Nde5S"
      },
      "execution_count": null,
      "outputs": []
    },
    {
      "cell_type": "code",
      "source": [
        "\n",
        "viz = dtreeviz(clas,\n",
        "               X_train,\n",
        "               y_train,\n",
        "               target_name='price',\n",
        "               feature_names=iris.feature_names,\n",
        "               class_names=[\"setosa\", \"versicolor\", \"virginica\"],\n",
        "               scale = 1.5,\n",
        "               orientation='LR')\n",
        "viz"
      ],
      "metadata": {
        "id": "ZAPUQCvoeDh3"
      },
      "execution_count": null,
      "outputs": []
    },
    {
      "cell_type": "code",
      "source": [
        "clas = tree.DecisionTreeClassifier()\n",
        "iris = load_iris()\n",
        "\n",
        "X_train = iris.data\n",
        "y_train = iris.target\n",
        "clas.fit(X_train, y_train)\n",
        "\n",
        "X = iris.data[np.random.randint(0, len(iris.data)),:]\n",
        "\n",
        "viz = dtreeviz(clas,\n",
        "               X_train,\n",
        "               y_train,\n",
        "               feature_names=iris.feature_names,\n",
        "               class_names=[\"setosa\", \"versicolor\", \"virginica\"],\n",
        "               X=X)\n",
        "viz"
      ],
      "metadata": {
        "id": "MbgUIw8jeXaF"
      },
      "execution_count": null,
      "outputs": []
    }
  ]
}