{
  "nbformat": 4,
  "nbformat_minor": 0,
  "metadata": {
    "colab": {
      "private_outputs": true,
      "provenance": [],
      "mount_file_id": "1oquHr3Tq53fe2BB6BqcA9OdAUfSZTl1-",
      "authorship_tag": "ABX9TyOt26vuK9yt7DWCcjEBaOef",
      "include_colab_link": true
    },
    "kernelspec": {
      "name": "python3",
      "display_name": "Python 3"
    },
    "language_info": {
      "name": "python"
    }
  },
  "cells": [
    {
      "cell_type": "markdown",
      "metadata": {
        "id": "view-in-github",
        "colab_type": "text"
      },
      "source": [
        "<a href=\"https://colab.research.google.com/github/see-vivek/concept_Ml/blob/main/gradient_boosting_regression.ipynb\" target=\"_parent\"><img src=\"https://colab.research.google.com/assets/colab-badge.svg\" alt=\"Open In Colab\"/></a>"
      ]
    },
    {
      "cell_type": "code",
      "source": [
        "\n",
        "import numpy as np\n",
        "import matplotlib.pyplot as plt"
      ],
      "metadata": {
        "id": "tQgtwJ72Nhya"
      },
      "execution_count": null,
      "outputs": []
    },
    {
      "cell_type": "code",
      "source": [
        "\n",
        "np.random.seed(42)\n",
        "X = np.random.rand(100, 1) - 0.5\n",
        "y = 3*X[:, 0]**2 + 0.05 * np.random.randn(100)"
      ],
      "metadata": {
        "id": "Kwmmdd0JNmH5"
      },
      "execution_count": null,
      "outputs": []
    },
    {
      "cell_type": "code",
      "source": [
        "\n",
        "import pandas as pd"
      ],
      "metadata": {
        "id": "7O8LuhcHN_dm"
      },
      "execution_count": null,
      "outputs": []
    },
    {
      "cell_type": "code",
      "source": [
        "\n",
        "df = pd.DataFrame()"
      ],
      "metadata": {
        "id": "LNG4jNUGOiBS"
      },
      "execution_count": null,
      "outputs": []
    },
    {
      "cell_type": "code",
      "source": [
        "df['X'] = X.reshape(100)\n",
        "df['y'] = y\n"
      ],
      "metadata": {
        "id": "DIh1K5l-Oq_t"
      },
      "execution_count": null,
      "outputs": []
    },
    {
      "cell_type": "code",
      "source": [
        "\n",
        "df"
      ],
      "metadata": {
        "id": "umni9v_mOzHi"
      },
      "execution_count": null,
      "outputs": []
    },
    {
      "cell_type": "code",
      "source": [
        "\n",
        "plt.scatter(df['X'],df['y'])\n",
        "plt.title('X vs Y')"
      ],
      "metadata": {
        "id": "U_a35Z72O5Kt"
      },
      "execution_count": null,
      "outputs": []
    },
    {
      "cell_type": "code",
      "source": [
        "df['pred1'] = df['y'].mean()\n",
        "\n",
        "\n",
        "df\n"
      ],
      "metadata": {
        "id": "x5TiS1EUPQpj"
      },
      "execution_count": null,
      "outputs": []
    },
    {
      "cell_type": "code",
      "source": [
        "df['res1'] = df['y'] - df['pred1']\n",
        "\n",
        "\n",
        "df"
      ],
      "metadata": {
        "id": "4-sL9HHTUxW-"
      },
      "execution_count": null,
      "outputs": []
    },
    {
      "cell_type": "code",
      "source": [
        "\n",
        "plt.scatter(df['X'],df['y'])\n",
        "plt.plot(df['X'],df['pred1'],color='red')"
      ],
      "metadata": {
        "id": "R6MctAP8Uzx0"
      },
      "execution_count": null,
      "outputs": []
    },
    {
      "cell_type": "code",
      "source": [
        "\n",
        "from sklearn.tree import DecisionTreeRegressor"
      ],
      "metadata": {
        "id": "dI7FRCEIU5na"
      },
      "execution_count": null,
      "outputs": []
    },
    {
      "cell_type": "code",
      "source": [
        "\n",
        "\n",
        "tree1 = DecisionTreeRegressor(max_leaf_nodes=8)"
      ],
      "metadata": {
        "id": "nxnlcE5VU8s_"
      },
      "execution_count": null,
      "outputs": []
    },
    {
      "cell_type": "code",
      "source": [
        "\n",
        "tree1.fit(df['X'].values.reshape(100,1),df['res1'].values)"
      ],
      "metadata": {
        "id": "6jT5L3cIU_e1"
      },
      "execution_count": null,
      "outputs": []
    },
    {
      "cell_type": "code",
      "source": [
        "from sklearn.tree import plot_tree\n",
        "plot_tree(tree1)\n",
        "plt.show()"
      ],
      "metadata": {
        "id": "NYhSdgiOVCu2"
      },
      "execution_count": null,
      "outputs": []
    },
    {
      "cell_type": "code",
      "source": [
        "# generating X_test\n",
        "X_test = np.linspace(-0.5, 0.5, 500)"
      ],
      "metadata": {
        "id": "C4OC_xerxCJ5"
      },
      "execution_count": null,
      "outputs": []
    },
    {
      "cell_type": "code",
      "source": [
        "\n",
        "y_pred = 0.265458 + tree1.predict(X_test.reshape(500, 1))"
      ],
      "metadata": {
        "id": "eO4kqw-fxFXs"
      },
      "execution_count": null,
      "outputs": []
    },
    {
      "cell_type": "code",
      "source": [
        "\n",
        "plt.figure(figsize=(14,4))\n",
        "plt.subplot(121)\n",
        "plt.plot(X_test, y_pred, linewidth=2,color='red')\n",
        "plt.scatter(df['X'],df['y'])"
      ],
      "metadata": {
        "id": "V05K4d2zxIGr"
      },
      "execution_count": null,
      "outputs": []
    },
    {
      "cell_type": "code",
      "source": [
        "\n",
        "df['pred2'] = 0.265458 + tree1.predict(df['X'].values.reshape(100,1))\n",
        "\n",
        "\n",
        "df"
      ],
      "metadata": {
        "id": "MCTX4-E2xOAB"
      },
      "execution_count": null,
      "outputs": []
    },
    {
      "cell_type": "code",
      "source": [
        "\n",
        "df['res2'] = df['y'] - df['pred2']\n",
        "\n",
        "\n",
        "df"
      ],
      "metadata": {
        "id": "l1wa51PnxR7V"
      },
      "execution_count": null,
      "outputs": []
    },
    {
      "cell_type": "code",
      "source": [
        "\n",
        "tree2 = DecisionTreeRegressor(max_leaf_nodes=8)"
      ],
      "metadata": {
        "id": "tz4ObdFGxUZl"
      },
      "execution_count": null,
      "outputs": []
    },
    {
      "cell_type": "code",
      "source": [
        "\n",
        "tree2.fit(df['X'].values.reshape(100,1),df['res2'].values)"
      ],
      "metadata": {
        "id": "jiBSCLgUxXwO"
      },
      "execution_count": null,
      "outputs": []
    },
    {
      "cell_type": "code",
      "source": [
        "y_pred = 0.265458 + sum(regressor.predict(X_test.reshape(-1, 1)) for regressor in [tree1,tree2])"
      ],
      "metadata": {
        "id": "MGnXPFHZxbLP"
      },
      "execution_count": null,
      "outputs": []
    },
    {
      "cell_type": "code",
      "source": [
        "\n",
        "plt.figure(figsize=(14,4))\n",
        "plt.subplot(121)\n",
        "plt.plot(X_test, y_pred, linewidth=2,color='red')\n",
        "plt.scatter(df['X'],df['y'])\n",
        "plt.title('X vs y')"
      ],
      "metadata": {
        "id": "GTIL6yW9xeY1"
      },
      "execution_count": null,
      "outputs": []
    },
    {
      "cell_type": "code",
      "source": [
        "\n",
        "def gradient_boost(X,y,number,lr,count=1,regs=[],foo=None):\n",
        "\n",
        "  if number == 0:\n",
        "    return\n",
        "  else:\n",
        "    # do gradient boosting\n",
        "\n",
        "    if count > 1:\n",
        "      y = y - regs[-1].predict(X)\n",
        "    else:\n",
        "      foo = y\n",
        "\n",
        "    tree_reg = DecisionTreeRegressor(max_depth=5, random_state=42)\n",
        "    tree_reg.fit(X, y)\n",
        "\n",
        "    regs.append(tree_reg)\n",
        "\n",
        "    x1 = np.linspace(-0.5, 0.5, 500)\n",
        "    y_pred = sum(lr * regressor.predict(x1.reshape(-1, 1)) for regressor in regs)\n",
        "\n",
        "    print(number)\n",
        "    plt.figure()\n",
        "    plt.plot(x1, y_pred, linewidth=2)\n",
        "    plt.plot(X[:, 0], foo,\"r.\")\n",
        "    plt.show()"
      ],
      "metadata": {
        "id": "yXErAiVMxiDP"
      },
      "execution_count": null,
      "outputs": []
    },
    {
      "cell_type": "code",
      "source": [
        "\n",
        "np.random.seed(42)\n",
        "X = np.random.rand(100, 1) - 0.5\n",
        "y = 3*X[:, 0]**2 + 0.05 * np.random.randn(100)\n",
        "gradient_boost(X,y,5,lr=1)"
      ],
      "metadata": {
        "id": "X1f-ER8pxmp7"
      },
      "execution_count": null,
      "outputs": []
    },
    {
      "cell_type": "code",
      "source": [],
      "metadata": {
        "id": "N6g4Mw8dxqTc"
      },
      "execution_count": null,
      "outputs": []
    }
  ]
}