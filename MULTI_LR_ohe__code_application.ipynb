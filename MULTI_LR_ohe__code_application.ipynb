{
  "nbformat": 4,
  "nbformat_minor": 0,
  "metadata": {
    "colab": {
      "private_outputs": true,
      "provenance": [],
      "mount_file_id": "1oquHr3Tq53fe2BB6BqcA9OdAUfSZTl1-",
      "authorship_tag": "ABX9TyPu8prfA4WWDay+5TTxzH0o",
      "include_colab_link": true
    },
    "kernelspec": {
      "name": "python3",
      "display_name": "Python 3"
    },
    "language_info": {
      "name": "python"
    }
  },
  "cells": [
    {
      "cell_type": "markdown",
      "metadata": {
        "id": "view-in-github",
        "colab_type": "text"
      },
      "source": [
        "<a href=\"https://colab.research.google.com/github/see-vivek/concept_Ml/blob/main/MULTI_LR_ohe__code_application.ipynb\" target=\"_parent\"><img src=\"https://colab.research.google.com/assets/colab-badge.svg\" alt=\"Open In Colab\"/></a>"
      ]
    },
    {
      "cell_type": "code",
      "source": [
        "import pandas as pd\n",
        "import numpy as np\n",
        "import matplotlib.pyplot as plt\n",
        "import seaborn as sns\n",
        "import plotly.express as px\n",
        "import plotly.graph_objects as go\n"
      ],
      "metadata": {
        "id": "mwaiQrYfeYKV"
      },
      "execution_count": null,
      "outputs": []
    },
    {
      "cell_type": "code",
      "source": [
        "from google.colab import drive\n",
        "drive.mount('/content/drive')"
      ],
      "metadata": {
        "id": "hKn99Kzpe59c"
      },
      "execution_count": null,
      "outputs": []
    },
    {
      "cell_type": "code",
      "source": [
        "df= pd.read_csv('/content/drive/MyDrive/only dataset/Student_Performance.csv')"
      ],
      "metadata": {
        "id": "Z7VAJQtFfyYd"
      },
      "execution_count": null,
      "outputs": []
    },
    {
      "cell_type": "code",
      "source": [
        "df.head()"
      ],
      "metadata": {
        "id": "4DNdAakkf8do"
      },
      "execution_count": null,
      "outputs": []
    },
    {
      "cell_type": "code",
      "source": [
        "df.shape"
      ],
      "metadata": {
        "id": "KOIRXGq3Xqoo"
      },
      "execution_count": null,
      "outputs": []
    },
    {
      "cell_type": "code",
      "source": [
        "fig=px.scatter_3d(df, x='Hours Studied',y='Previous Scores', z='Sleep Hours')\n",
        "fig.show()"
      ],
      "metadata": {
        "id": "DUNMvEvcdowt"
      },
      "execution_count": null,
      "outputs": []
    },
    {
      "cell_type": "code",
      "source": [
        "x= df.iloc[:,0:8]\n",
        "y= df.iloc[:,-1]"
      ],
      "metadata": {
        "id": "6MNom9OTg4Jv"
      },
      "execution_count": null,
      "outputs": []
    },
    {
      "cell_type": "code",
      "source": [
        "from sklearn.model_selection import train_test_split\n",
        "x_train,x_test,y_train,y_test= train_test_split(x,y,test_size=.2,random_state=8)"
      ],
      "metadata": {
        "id": "qFbMuhqmhczQ"
      },
      "execution_count": null,
      "outputs": []
    },
    {
      "cell_type": "code",
      "source": [
        "from sklearn.preprocessing import OneHotEncoder\n",
        "ohe= OneHotEncoder(drop='first', sparse=False)\n"
      ],
      "metadata": {
        "id": "zhiXQluKUogW"
      },
      "execution_count": null,
      "outputs": []
    },
    {
      "cell_type": "code",
      "source": [
        "x_train_new=ohe.fit_transform(x_train[['Extracurricular Activities']])"
      ],
      "metadata": {
        "id": "I4p6bhWyYHkW"
      },
      "execution_count": null,
      "outputs": []
    },
    {
      "cell_type": "code",
      "source": [
        "x_train_new"
      ],
      "metadata": {
        "id": "lB25vyrTcARY"
      },
      "execution_count": null,
      "outputs": []
    },
    {
      "cell_type": "code",
      "source": [
        "x_test_new=ohe.transform(x_test[['Extracurricular Activities']])"
      ],
      "metadata": {
        "id": "hqV8qUFpV2Jg"
      },
      "execution_count": null,
      "outputs": []
    },
    {
      "cell_type": "code",
      "source": [
        "#appending the ohe done column to remaning column as its necessary.\n",
        "#x_train_new=np.hstack((x_train[['Hours Studied','Previous Scores','Sleep Hours','Sample Question Papers Practiced']].values,x_train_new)).shape\n"
      ],
      "metadata": {
        "id": "lJjt0vz2WZJk"
      },
      "execution_count": null,
      "outputs": []
    },
    {
      "cell_type": "code",
      "source": [
        "from sklearn.linear_model import LinearRegression\n",
        "lr=LinearRegression()"
      ],
      "metadata": {
        "id": "TKz4fmTah4q-"
      },
      "execution_count": null,
      "outputs": []
    },
    {
      "cell_type": "code",
      "source": [
        "lr.fit(x_train_new,y_train)"
      ],
      "metadata": {
        "id": "oj8Km11kiIBB"
      },
      "execution_count": null,
      "outputs": []
    },
    {
      "cell_type": "code",
      "source": [
        "from sklearn.metrics import mean_absolute_error, mean_squared_error,r2_score"
      ],
      "metadata": {
        "id": "4wYJ9wE4iVzS"
      },
      "execution_count": null,
      "outputs": []
    },
    {
      "cell_type": "code",
      "source": [
        "y_pred=lr.predict(x_test_new)"
      ],
      "metadata": {
        "id": "dbq0JMssixP1"
      },
      "execution_count": null,
      "outputs": []
    },
    {
      "cell_type": "code",
      "source": [
        "y_pred"
      ],
      "metadata": {
        "id": "vjPvXO4JeNLF"
      },
      "execution_count": null,
      "outputs": []
    },
    {
      "cell_type": "code",
      "source": [
        "y_test"
      ],
      "metadata": {
        "id": "H2FrXsbui2bo"
      },
      "execution_count": null,
      "outputs": []
    },
    {
      "cell_type": "code",
      "source": [
        "print('MAE=',mean_absolute_error(y_test,y_pred))"
      ],
      "metadata": {
        "id": "-xNzX8wAjEq0"
      },
      "execution_count": null,
      "outputs": []
    },
    {
      "cell_type": "code",
      "source": [
        "print('MSE=',mean_squared_error(y_test,y_pred))"
      ],
      "metadata": {
        "id": "mJo-oEbJjSA4"
      },
      "execution_count": null,
      "outputs": []
    },
    {
      "cell_type": "code",
      "source": [
        "print('R2score=',r2_score(y_test,y_pred))"
      ],
      "metadata": {
        "id": "21RyNfrfjcdL"
      },
      "execution_count": null,
      "outputs": []
    }
  ]
}