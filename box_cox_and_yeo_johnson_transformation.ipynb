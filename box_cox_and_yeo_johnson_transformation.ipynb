{
  "nbformat": 4,
  "nbformat_minor": 0,
  "metadata": {
    "colab": {
      "private_outputs": true,
      "provenance": [],
      "mount_file_id": "1oquHr3Tq53fe2BB6BqcA9OdAUfSZTl1-",
      "authorship_tag": "ABX9TyOD/MtJ+QNaSZoZdhH1azDO",
      "include_colab_link": true
    },
    "kernelspec": {
      "name": "python3",
      "display_name": "Python 3"
    },
    "language_info": {
      "name": "python"
    }
  },
  "cells": [
    {
      "cell_type": "markdown",
      "metadata": {
        "id": "view-in-github",
        "colab_type": "text"
      },
      "source": [
        "<a href=\"https://colab.research.google.com/github/see-vivek/concept_Ml/blob/main/box_cox_and_yeo_johnson_transformation.ipynb\" target=\"_parent\"><img src=\"https://colab.research.google.com/assets/colab-badge.svg\" alt=\"Open In Colab\"/></a>"
      ]
    },
    {
      "cell_type": "code",
      "source": [
        "import numpy as np\n",
        "import pandas as pd\n",
        "import seaborn as sns\n",
        "import matplotlib.pyplot as plt\n",
        "\n",
        "import scipy.stats as stats\n",
        "from sklearn.model_selection import train_test_split\n",
        "from sklearn.model_selection import cross_val_score\n",
        "\n",
        "from sklearn.linear_model import LinearRegression\n",
        "\n",
        "from sklearn.metrics import r2_score\n",
        "\n",
        "from sklearn.preprocessing import PowerTransformer"
      ],
      "metadata": {
        "id": "1YWxoyQhTtkc"
      },
      "execution_count": null,
      "outputs": []
    },
    {
      "cell_type": "code",
      "source": [
        "from google.colab import drive\n",
        "drive.mount('/content/drive')"
      ],
      "metadata": {
        "id": "Or4px5bvTzvL"
      },
      "execution_count": null,
      "outputs": []
    },
    {
      "cell_type": "code",
      "source": [
        "df=pd.read_csv('/content/drive/MyDrive/only dataset/concrete_data.csv')"
      ],
      "metadata": {
        "id": "n8a6JLSRUfh_"
      },
      "execution_count": null,
      "outputs": []
    },
    {
      "cell_type": "code",
      "source": [
        "df"
      ],
      "metadata": {
        "id": "OlE_2iK4UqKa"
      },
      "execution_count": null,
      "outputs": []
    },
    {
      "cell_type": "code",
      "source": [
        "df.shape"
      ],
      "metadata": {
        "id": "Zt9jgqZfUsA2"
      },
      "execution_count": null,
      "outputs": []
    },
    {
      "cell_type": "code",
      "source": [
        "df.isnull().sum()"
      ],
      "metadata": {
        "id": "TH6y_YA9UvjP"
      },
      "execution_count": null,
      "outputs": []
    },
    {
      "cell_type": "code",
      "source": [
        "X = df.drop(columns=['Strength'])\n",
        "y = df.iloc[:,-1]"
      ],
      "metadata": {
        "id": "e-Wl8ff_Uy4v"
      },
      "execution_count": null,
      "outputs": []
    },
    {
      "cell_type": "code",
      "source": [
        "X_train, X_test, y_train, y_test = train_test_split(X,y,test_size=0.2,random_state=42)"
      ],
      "metadata": {
        "id": "IP5DyxYjU2LB"
      },
      "execution_count": null,
      "outputs": []
    },
    {
      "cell_type": "code",
      "source": [
        "# Applying Regression without any transformation\n",
        "lr = LinearRegression()\n",
        "\n",
        "lr.fit(X_train,y_train)\n",
        "\n",
        "y_pred = lr.predict(X_test)\n",
        "\n",
        "r2_score(y_test,y_pred)"
      ],
      "metadata": {
        "id": "3NGChC30U5DN"
      },
      "execution_count": null,
      "outputs": []
    },
    {
      "cell_type": "code",
      "source": [
        "# Cross checking with cross val score\n",
        "lr = LinearRegression()\n",
        "np.mean(cross_val_score(lr,X,y,scoring='r2'))"
      ],
      "metadata": {
        "id": "BUBlgZd5U9zP"
      },
      "execution_count": null,
      "outputs": []
    },
    {
      "cell_type": "code",
      "source": [
        "# Plotting the distplots without any transformation\n",
        "\n",
        "for col in X_train.columns:\n",
        "    plt.figure(figsize=(14,4))\n",
        "    plt.subplot(121)\n",
        "    sns.distplot(X_train[col])\n",
        "    plt.title(col)\n",
        "\n",
        "    plt.subplot(122)\n",
        "    stats.probplot(X_train[col], dist=\"norm\", plot=plt)\n",
        "    plt.title(col)\n",
        "\n",
        "    plt.show()"
      ],
      "metadata": {
        "id": "oMir-vEQVBw-"
      },
      "execution_count": null,
      "outputs": []
    },
    {
      "cell_type": "code",
      "source": [
        "# Applying Box-Cox Transform\n",
        "\n",
        "pt = PowerTransformer(method='box-cox')\n",
        "\n",
        "X_train_transformed = pt.fit_transform(X_train+0.000001)\n",
        "X_test_transformed = pt.transform(X_test+0.000001)\n",
        "\n",
        "pd.DataFrame({'cols':X_train.columns,'box_cox_lambdas':pt.lambdas_})"
      ],
      "metadata": {
        "id": "rUIyIL2sVJFt"
      },
      "execution_count": null,
      "outputs": []
    },
    {
      "cell_type": "code",
      "source": [
        "# Applying linear regression on transformed data\n",
        "\n",
        "lr = LinearRegression()\n",
        "lr.fit(X_train_transformed,y_train)\n",
        "\n",
        "y_pred2 = lr.predict(X_test_transformed)\n",
        "\n",
        "r2_score(y_test,y_pred2)"
      ],
      "metadata": {
        "id": "RzeYoIjRVNb-"
      },
      "execution_count": null,
      "outputs": []
    },
    {
      "cell_type": "code",
      "source": [
        "# Using cross val score\n",
        "\n",
        "pt = PowerTransformer(method='box-cox')\n",
        "X_transformed = pt.fit_transform(X+0.0000001)\n",
        "\n",
        "lr = LinearRegression()\n",
        "np.mean(cross_val_score(lr,X_transformed,y,scoring='r2'))"
      ],
      "metadata": {
        "id": "sXfM5OPCVQvT"
      },
      "execution_count": null,
      "outputs": []
    },
    {
      "cell_type": "code",
      "source": [
        "# Before and after comparision for Box-Cox Plot\n",
        "X_train_transformed = pd.DataFrame(X_train_transformed,columns=X_train.columns)\n",
        "\n",
        "for col in X_train_transformed.columns:\n",
        "    plt.figure(figsize=(14,4))\n",
        "    plt.subplot(121)\n",
        "    sns.distplot(X_train[col])\n",
        "    plt.title(col)\n",
        "\n",
        "    plt.subplot(122)\n",
        "    sns.distplot(X_train_transformed[col])\n",
        "    plt.title(col)\n",
        "\n",
        "    plt.show()"
      ],
      "metadata": {
        "id": "fr5rlFSeVUVD"
      },
      "execution_count": null,
      "outputs": []
    },
    {
      "cell_type": "code",
      "source": [
        "# Apply Yeo-Johnson transform\n",
        "\n",
        "pt1 = PowerTransformer()\n",
        "\n",
        "X_train_transformed2 = pt1.fit_transform(X_train)\n",
        "X_test_transformed2 = pt1.transform(X_test)\n",
        "\n",
        "lr = LinearRegression()\n",
        "lr.fit(X_train_transformed2,y_train)\n",
        "\n",
        "y_pred3 = lr.predict(X_test_transformed2)\n",
        "\n",
        "print(r2_score(y_test,y_pred3))\n",
        "\n",
        "pd.DataFrame({'cols':X_train.columns,'Yeo_Johnson_lambdas':pt1.lambdas_})"
      ],
      "metadata": {
        "id": "RyhOlBc0VaKL"
      },
      "execution_count": null,
      "outputs": []
    },
    {
      "cell_type": "code",
      "source": [
        "# applying cross val score\n",
        "\n",
        "pt = PowerTransformer()\n",
        "X_transformed2 = pt.fit_transform(X)\n",
        "\n",
        "lr = LinearRegression()\n",
        "np.mean(cross_val_score(lr,X_transformed2,y,scoring='r2'))"
      ],
      "metadata": {
        "id": "pvL8Ug8IVfHK"
      },
      "execution_count": null,
      "outputs": []
    },
    {
      "cell_type": "code",
      "source": [
        "X_train_transformed2 = pd.DataFrame(X_train_transformed2,columns=X_train.columns)"
      ],
      "metadata": {
        "id": "LAfkW9GgVils"
      },
      "execution_count": null,
      "outputs": []
    },
    {
      "cell_type": "code",
      "source": [
        "# Before and after comparision for Yeo-Johnson\n",
        "\n",
        "for col in X_train_transformed2.columns:\n",
        "    plt.figure(figsize=(14,4))\n",
        "    plt.subplot(121)\n",
        "    sns.distplot(X_train[col])\n",
        "    plt.title(col)\n",
        "\n",
        "    plt.subplot(122)\n",
        "    sns.distplot(X_train_transformed2[col])\n",
        "    plt.title(col)\n",
        "\n",
        "    plt.show()"
      ],
      "metadata": {
        "id": "wUt8L0g0Vlf4"
      },
      "execution_count": null,
      "outputs": []
    },
    {
      "cell_type": "code",
      "source": [
        "pd.DataFrame({'cols':X_train.columns,'box_cox_lambdas':pt.lambdas_,'Yeo_Johnson_lambdas':pt1.lambdas_})"
      ],
      "metadata": {
        "id": "1aBUf6cFVpPi"
      },
      "execution_count": null,
      "outputs": []
    }
  ]
}